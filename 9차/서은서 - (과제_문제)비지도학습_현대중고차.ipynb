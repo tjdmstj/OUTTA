{
 "cells": [
  {
   "cell_type": "markdown",
   "metadata": {
    "id": "ENZvt5kDFjTF"
   },
   "source": [
    "# 비지도학습 과제\n",
    "### 전처리 2차시에서 진행한 실습에서 이어지는 내용입니다.\n",
    "### 2차시에서 최종적으로 저장한 hyundi_preprocessed.csv 파일을 활용해 비지도학습 클러스터링을 진행합니다."
   ]
  },
  {
   "cell_type": "markdown",
   "metadata": {
    "id": "Fsnp4LHxF0Iy"
   },
   "source": [
    "### 파일 불러오기"
   ]
  },
  {
   "cell_type": "code",
   "execution_count": 1,
   "metadata": {
    "id": "QxuhwP17E85Q"
   },
   "outputs": [],
   "source": [
    "import numpy as np\n",
    "import pandas as pd"
   ]
  },
  {
   "cell_type": "code",
   "execution_count": 2,
   "metadata": {
    "id": "9wluA9MfFS7Q"
   },
   "outputs": [],
   "source": [
    "df = pd.read_csv('hyundi_preprocessed.csv', index_col=0)"
   ]
  },
  {
   "cell_type": "code",
   "execution_count": 3,
   "metadata": {
    "colab": {
     "base_uri": "https://localhost:8080/",
     "height": 424
    },
    "id": "e7W48MjDFWvO",
    "outputId": "8fe836ff-4276-493f-d803-f65fd4abd669"
   },
   "outputs": [
    {
     "data": {
      "text/html": [
       "<div>\n",
       "<style scoped>\n",
       "    .dataframe tbody tr th:only-of-type {\n",
       "        vertical-align: middle;\n",
       "    }\n",
       "\n",
       "    .dataframe tbody tr th {\n",
       "        vertical-align: top;\n",
       "    }\n",
       "\n",
       "    .dataframe thead th {\n",
       "        text-align: right;\n",
       "    }\n",
       "</style>\n",
       "<table border=\"1\" class=\"dataframe\">\n",
       "  <thead>\n",
       "    <tr style=\"text-align: right;\">\n",
       "      <th></th>\n",
       "      <th>model</th>\n",
       "      <th>year</th>\n",
       "      <th>price</th>\n",
       "      <th>transmission</th>\n",
       "      <th>mileage</th>\n",
       "      <th>fuelType</th>\n",
       "      <th>tax</th>\n",
       "      <th>mpg</th>\n",
       "      <th>engineSize</th>\n",
       "    </tr>\n",
       "  </thead>\n",
       "  <tbody>\n",
       "    <tr>\n",
       "      <th>0</th>\n",
       "      <td>7</td>\n",
       "      <td>2017</td>\n",
       "      <td>7999</td>\n",
       "      <td>0</td>\n",
       "      <td>17307</td>\n",
       "      <td>0</td>\n",
       "      <td>145.0</td>\n",
       "      <td>58.9</td>\n",
       "      <td>1.2</td>\n",
       "    </tr>\n",
       "    <tr>\n",
       "      <th>1</th>\n",
       "      <td>12</td>\n",
       "      <td>2016</td>\n",
       "      <td>14499</td>\n",
       "      <td>2</td>\n",
       "      <td>25233</td>\n",
       "      <td>2</td>\n",
       "      <td>235.0</td>\n",
       "      <td>43.5</td>\n",
       "      <td>2.0</td>\n",
       "    </tr>\n",
       "    <tr>\n",
       "      <th>2</th>\n",
       "      <td>12</td>\n",
       "      <td>2016</td>\n",
       "      <td>11399</td>\n",
       "      <td>0</td>\n",
       "      <td>37877</td>\n",
       "      <td>2</td>\n",
       "      <td>30.0</td>\n",
       "      <td>61.7</td>\n",
       "      <td>1.7</td>\n",
       "    </tr>\n",
       "    <tr>\n",
       "      <th>3</th>\n",
       "      <td>5</td>\n",
       "      <td>2016</td>\n",
       "      <td>6499</td>\n",
       "      <td>0</td>\n",
       "      <td>23789</td>\n",
       "      <td>0</td>\n",
       "      <td>20.0</td>\n",
       "      <td>60.1</td>\n",
       "      <td>1.0</td>\n",
       "    </tr>\n",
       "    <tr>\n",
       "      <th>4</th>\n",
       "      <td>6</td>\n",
       "      <td>2015</td>\n",
       "      <td>10199</td>\n",
       "      <td>0</td>\n",
       "      <td>33177</td>\n",
       "      <td>2</td>\n",
       "      <td>160.0</td>\n",
       "      <td>51.4</td>\n",
       "      <td>2.0</td>\n",
       "    </tr>\n",
       "    <tr>\n",
       "      <th>...</th>\n",
       "      <td>...</td>\n",
       "      <td>...</td>\n",
       "      <td>...</td>\n",
       "      <td>...</td>\n",
       "      <td>...</td>\n",
       "      <td>...</td>\n",
       "      <td>...</td>\n",
       "      <td>...</td>\n",
       "      <td>...</td>\n",
       "    </tr>\n",
       "    <tr>\n",
       "      <th>4854</th>\n",
       "      <td>15</td>\n",
       "      <td>2019</td>\n",
       "      <td>29995</td>\n",
       "      <td>3</td>\n",
       "      <td>1567</td>\n",
       "      <td>2</td>\n",
       "      <td>145.0</td>\n",
       "      <td>39.8</td>\n",
       "      <td>2.2</td>\n",
       "    </tr>\n",
       "    <tr>\n",
       "      <th>4856</th>\n",
       "      <td>9</td>\n",
       "      <td>2015</td>\n",
       "      <td>7830</td>\n",
       "      <td>0</td>\n",
       "      <td>59508</td>\n",
       "      <td>2</td>\n",
       "      <td>30.0</td>\n",
       "      <td>65.7</td>\n",
       "      <td>1.7</td>\n",
       "    </tr>\n",
       "    <tr>\n",
       "      <th>4857</th>\n",
       "      <td>5</td>\n",
       "      <td>2017</td>\n",
       "      <td>6830</td>\n",
       "      <td>0</td>\n",
       "      <td>13810</td>\n",
       "      <td>0</td>\n",
       "      <td>20.0</td>\n",
       "      <td>60.1</td>\n",
       "      <td>1.0</td>\n",
       "    </tr>\n",
       "    <tr>\n",
       "      <th>4858</th>\n",
       "      <td>12</td>\n",
       "      <td>2018</td>\n",
       "      <td>13994</td>\n",
       "      <td>0</td>\n",
       "      <td>23313</td>\n",
       "      <td>0</td>\n",
       "      <td>145.0</td>\n",
       "      <td>44.8</td>\n",
       "      <td>1.6</td>\n",
       "    </tr>\n",
       "    <tr>\n",
       "      <th>4859</th>\n",
       "      <td>12</td>\n",
       "      <td>2016</td>\n",
       "      <td>15999</td>\n",
       "      <td>2</td>\n",
       "      <td>11472</td>\n",
       "      <td>2</td>\n",
       "      <td>125.0</td>\n",
       "      <td>57.6</td>\n",
       "      <td>1.7</td>\n",
       "    </tr>\n",
       "  </tbody>\n",
       "</table>\n",
       "<p>4592 rows × 9 columns</p>\n",
       "</div>"
      ],
      "text/plain": [
       "      model  year  price  transmission  mileage  fuelType    tax   mpg   \n",
       "0         7  2017   7999             0    17307         0  145.0  58.9  \\\n",
       "1        12  2016  14499             2    25233         2  235.0  43.5   \n",
       "2        12  2016  11399             0    37877         2   30.0  61.7   \n",
       "3         5  2016   6499             0    23789         0   20.0  60.1   \n",
       "4         6  2015  10199             0    33177         2  160.0  51.4   \n",
       "...     ...   ...    ...           ...      ...       ...    ...   ...   \n",
       "4854     15  2019  29995             3     1567         2  145.0  39.8   \n",
       "4856      9  2015   7830             0    59508         2   30.0  65.7   \n",
       "4857      5  2017   6830             0    13810         0   20.0  60.1   \n",
       "4858     12  2018  13994             0    23313         0  145.0  44.8   \n",
       "4859     12  2016  15999             2    11472         2  125.0  57.6   \n",
       "\n",
       "      engineSize  \n",
       "0            1.2  \n",
       "1            2.0  \n",
       "2            1.7  \n",
       "3            1.0  \n",
       "4            2.0  \n",
       "...          ...  \n",
       "4854         2.2  \n",
       "4856         1.7  \n",
       "4857         1.0  \n",
       "4858         1.6  \n",
       "4859         1.7  \n",
       "\n",
       "[4592 rows x 9 columns]"
      ]
     },
     "execution_count": 3,
     "metadata": {},
     "output_type": "execute_result"
    }
   ],
   "source": [
    "df"
   ]
  },
  {
   "cell_type": "markdown",
   "metadata": {
    "id": "XFSbbtf9F3NB"
   },
   "source": [
    "# 지금부터 df를 활용해 K-means Clustering을 진행하시면 됩니다.\n",
    "* 다양한 클러스터를 만들며, 클러스터링에 익숙해지는 자유도 높은 과제 입니다.\n",
    "* 비지도학습 K-means Clustering 강의 및 자료를 활용해 현대 중고차에 대한 클러스터링 분석을 자유롭게 진행해보세요.\n",
    "* 분석을 위해 모든 열을 다 사용해도 되고, 몇 가지 열을 골라서 진행해도 됩니다!"
   ]
  },
  {
   "cell_type": "code",
   "execution_count": 4,
   "metadata": {
    "colab": {
     "base_uri": "https://localhost:8080/",
     "height": 424
    },
    "id": "d1elVyciJkSX",
    "outputId": "51734c48-9265-47be-93ed-f7b747005c3b"
   },
   "outputs": [
    {
     "data": {
      "text/html": [
       "<div>\n",
       "<style scoped>\n",
       "    .dataframe tbody tr th:only-of-type {\n",
       "        vertical-align: middle;\n",
       "    }\n",
       "\n",
       "    .dataframe tbody tr th {\n",
       "        vertical-align: top;\n",
       "    }\n",
       "\n",
       "    .dataframe thead th {\n",
       "        text-align: right;\n",
       "    }\n",
       "</style>\n",
       "<table border=\"1\" class=\"dataframe\">\n",
       "  <thead>\n",
       "    <tr style=\"text-align: right;\">\n",
       "      <th></th>\n",
       "      <th>price</th>\n",
       "      <th>year</th>\n",
       "      <th>mileage</th>\n",
       "    </tr>\n",
       "  </thead>\n",
       "  <tbody>\n",
       "    <tr>\n",
       "      <th>0</th>\n",
       "      <td>7999</td>\n",
       "      <td>2017</td>\n",
       "      <td>17307</td>\n",
       "    </tr>\n",
       "    <tr>\n",
       "      <th>1</th>\n",
       "      <td>14499</td>\n",
       "      <td>2016</td>\n",
       "      <td>25233</td>\n",
       "    </tr>\n",
       "    <tr>\n",
       "      <th>2</th>\n",
       "      <td>11399</td>\n",
       "      <td>2016</td>\n",
       "      <td>37877</td>\n",
       "    </tr>\n",
       "    <tr>\n",
       "      <th>3</th>\n",
       "      <td>6499</td>\n",
       "      <td>2016</td>\n",
       "      <td>23789</td>\n",
       "    </tr>\n",
       "    <tr>\n",
       "      <th>4</th>\n",
       "      <td>10199</td>\n",
       "      <td>2015</td>\n",
       "      <td>33177</td>\n",
       "    </tr>\n",
       "    <tr>\n",
       "      <th>...</th>\n",
       "      <td>...</td>\n",
       "      <td>...</td>\n",
       "      <td>...</td>\n",
       "    </tr>\n",
       "    <tr>\n",
       "      <th>4854</th>\n",
       "      <td>29995</td>\n",
       "      <td>2019</td>\n",
       "      <td>1567</td>\n",
       "    </tr>\n",
       "    <tr>\n",
       "      <th>4856</th>\n",
       "      <td>7830</td>\n",
       "      <td>2015</td>\n",
       "      <td>59508</td>\n",
       "    </tr>\n",
       "    <tr>\n",
       "      <th>4857</th>\n",
       "      <td>6830</td>\n",
       "      <td>2017</td>\n",
       "      <td>13810</td>\n",
       "    </tr>\n",
       "    <tr>\n",
       "      <th>4858</th>\n",
       "      <td>13994</td>\n",
       "      <td>2018</td>\n",
       "      <td>23313</td>\n",
       "    </tr>\n",
       "    <tr>\n",
       "      <th>4859</th>\n",
       "      <td>15999</td>\n",
       "      <td>2016</td>\n",
       "      <td>11472</td>\n",
       "    </tr>\n",
       "  </tbody>\n",
       "</table>\n",
       "<p>4592 rows × 3 columns</p>\n",
       "</div>"
      ],
      "text/plain": [
       "      price  year  mileage\n",
       "0      7999  2017    17307\n",
       "1     14499  2016    25233\n",
       "2     11399  2016    37877\n",
       "3      6499  2016    23789\n",
       "4     10199  2015    33177\n",
       "...     ...   ...      ...\n",
       "4854  29995  2019     1567\n",
       "4856   7830  2015    59508\n",
       "4857   6830  2017    13810\n",
       "4858  13994  2018    23313\n",
       "4859  15999  2016    11472\n",
       "\n",
       "[4592 rows x 3 columns]"
      ]
     },
     "execution_count": 4,
     "metadata": {},
     "output_type": "execute_result"
    }
   ],
   "source": [
    "# 분석을 진행할 열 3개를 가져옵니다.\n",
    "df_new = df[['price','year','mileage']]\n",
    "\n",
    "df_new"
   ]
  },
  {
   "cell_type": "code",
   "execution_count": 5,
   "metadata": {
    "colab": {
     "base_uri": "https://localhost:8080/"
    },
    "id": "qL_PmS8WJsv4",
    "outputId": "c97321c9-d331-4cda-e52e-b5723ef9e5a5"
   },
   "outputs": [
    {
     "name": "stdout",
     "output_type": "stream",
     "text": [
      "      price  year  mileage  cluster_label\n",
      "0      7999  2017    17307              2\n",
      "1     14499  2016    25233              1\n",
      "2     11399  2016    37877              1\n",
      "3      6499  2016    23789              1\n",
      "4     10199  2015    33177              1\n",
      "...     ...   ...      ...            ...\n",
      "4854  29995  2019     1567              2\n",
      "4856   7830  2015    59508              0\n",
      "4857   6830  2017    13810              2\n",
      "4858  13994  2018    23313              1\n",
      "4859  15999  2016    11472              2\n",
      "\n",
      "[4592 rows x 4 columns]\n"
     ]
    },
    {
     "name": "stderr",
     "output_type": "stream",
     "text": [
      "/var/folders/s5/z4h29rk50jlbht219d69t3b00000gn/T/ipykernel_6846/3075846715.py:15: SettingWithCopyWarning: \n",
      "A value is trying to be set on a copy of a slice from a DataFrame.\n",
      "Try using .loc[row_indexer,col_indexer] = value instead\n",
      "\n",
      "See the caveats in the documentation: https://pandas.pydata.org/pandas-docs/stable/user_guide/indexing.html#returning-a-view-versus-a-copy\n",
      "  df_new['cluster_label'] = y_km\n"
     ]
    }
   ],
   "source": [
    "from sklearn.cluster import KMeans\n",
    "\n",
    "# KMeans 클러스터링 모델 생성\n",
    "km = KMeans(n_clusters = 3,\n",
    "            init='random',\n",
    "            n_init=100,\n",
    "            tol=1e-04,\n",
    "            max_iter=500,\n",
    "            random_state=0)\n",
    "\n",
    "# 클러스터링 수행\n",
    "y_km = km.fit_predict(df_new) # ****부분을 적절한 값으로 교체해주세ㅛㅇ.\n",
    "\n",
    "# 클러스터링 결과 출력\n",
    "df_new['cluster_label'] = y_km\n",
    "print(df_new)"
   ]
  },
  {
   "cell_type": "code",
   "execution_count": 6,
   "metadata": {
    "colab": {
     "base_uri": "https://localhost:8080/"
    },
    "id": "8mbljvZ1LASR",
    "outputId": "4327ca78-c870-49ce-dab6-a8522b189ab2"
   },
   "outputs": [
    {
     "data": {
      "text/plain": [
       "array([[ 8073.2875    ,  2013.98      , 60897.8575    ],\n",
       "       [10720.04822955,  2016.3980464 , 30099.37728938],\n",
       "       [14947.35160532,  2018.1174628 ,  9172.25176194]])"
      ]
     },
     "execution_count": 6,
     "metadata": {},
     "output_type": "execute_result"
    }
   ],
   "source": [
    "# 클러스터 중심점 확인\n",
    "centers = km.cluster_centers_  # 중심을 확인하는 코드를 넣어주세요\n",
    "\n",
    "centers"
   ]
  },
  {
   "cell_type": "code",
   "execution_count": 7,
   "metadata": {
    "colab": {
     "base_uri": "https://localhost:8080/",
     "height": 472
    },
    "id": "5uP4mtxQKDPU",
    "outputId": "9611894c-303b-463e-b5a0-c35682801d91"
   },
   "outputs": [
    {
     "data": {
      "image/png": "[encoded data removed]",
      "text/plain": [
       "<Figure size 640x480 with 1 Axes>"
      ]
     },
     "metadata": {},
     "output_type": "display_data"
    }
   ],
   "source": [
    "# 클러스터링 결과 시각화\n",
    "import matplotlib.pyplot as plt\n",
    "\n",
    "# 4800여개의 데이터를 점 찍는 작업입니다.\n",
    "plt.scatter(x =df_new['price'], y =df_new['mileage'], c=y_km, cmap='viridis')  # x, y, c에 값을 집어넣어주세요\n",
    "\n",
    "# 각 cluster의 중심을 점 찍는 작업입니다.\n",
    "plt.scatter(x=km.cluster_centers_[:,0], y=km.cluster_centers_[:,2], marker='*', s=250, color='red', label='Centroids') # x,y에 값을 집어넣어주세요\n",
    "\n",
    "plt.xlabel('Price')\n",
    "plt.ylabel('Mileage')\n",
    "plt.title('Clustering Result')\n",
    "plt.legend()\n",
    "plt.show()"
   ]
  },
  {
   "cell_type": "markdown",
   "metadata": {
    "id": "96tgM7uFJYGw"
   },
   "source": [
    "# 아래부터는 배운 내용을 바탕으로 다양한 cluster 분석을 진행해주세요."
   ]
  },
  {
   "cell_type": "code",
   "execution_count": 8,
   "metadata": {
    "id": "KSmK2Qh3KpLD"
   },
   "outputs": [
    {
     "data": {
      "text/html": [
       "<div>\n",
       "<style scoped>\n",
       "    .dataframe tbody tr th:only-of-type {\n",
       "        vertical-align: middle;\n",
       "    }\n",
       "\n",
       "    .dataframe tbody tr th {\n",
       "        vertical-align: top;\n",
       "    }\n",
       "\n",
       "    .dataframe thead th {\n",
       "        text-align: right;\n",
       "    }\n",
       "</style>\n",
       "<table border=\"1\" class=\"dataframe\">\n",
       "  <thead>\n",
       "    <tr style=\"text-align: right;\">\n",
       "      <th></th>\n",
       "      <th>model</th>\n",
       "      <th>year</th>\n",
       "      <th>price</th>\n",
       "      <th>transmission</th>\n",
       "      <th>mileage</th>\n",
       "      <th>fuelType</th>\n",
       "      <th>tax</th>\n",
       "      <th>mpg</th>\n",
       "      <th>engineSize</th>\n",
       "    </tr>\n",
       "  </thead>\n",
       "  <tbody>\n",
       "    <tr>\n",
       "      <th>0</th>\n",
       "      <td>7</td>\n",
       "      <td>2017</td>\n",
       "      <td>7999</td>\n",
       "      <td>0</td>\n",
       "      <td>17307</td>\n",
       "      <td>0</td>\n",
       "      <td>145.0</td>\n",
       "      <td>58.9</td>\n",
       "      <td>1.2</td>\n",
       "    </tr>\n",
       "    <tr>\n",
       "      <th>1</th>\n",
       "      <td>12</td>\n",
       "      <td>2016</td>\n",
       "      <td>14499</td>\n",
       "      <td>2</td>\n",
       "      <td>25233</td>\n",
       "      <td>2</td>\n",
       "      <td>235.0</td>\n",
       "      <td>43.5</td>\n",
       "      <td>2.0</td>\n",
       "    </tr>\n",
       "    <tr>\n",
       "      <th>2</th>\n",
       "      <td>12</td>\n",
       "      <td>2016</td>\n",
       "      <td>11399</td>\n",
       "      <td>0</td>\n",
       "      <td>37877</td>\n",
       "      <td>2</td>\n",
       "      <td>30.0</td>\n",
       "      <td>61.7</td>\n",
       "      <td>1.7</td>\n",
       "    </tr>\n",
       "    <tr>\n",
       "      <th>3</th>\n",
       "      <td>5</td>\n",
       "      <td>2016</td>\n",
       "      <td>6499</td>\n",
       "      <td>0</td>\n",
       "      <td>23789</td>\n",
       "      <td>0</td>\n",
       "      <td>20.0</td>\n",
       "      <td>60.1</td>\n",
       "      <td>1.0</td>\n",
       "    </tr>\n",
       "    <tr>\n",
       "      <th>4</th>\n",
       "      <td>6</td>\n",
       "      <td>2015</td>\n",
       "      <td>10199</td>\n",
       "      <td>0</td>\n",
       "      <td>33177</td>\n",
       "      <td>2</td>\n",
       "      <td>160.0</td>\n",
       "      <td>51.4</td>\n",
       "      <td>2.0</td>\n",
       "    </tr>\n",
       "    <tr>\n",
       "      <th>...</th>\n",
       "      <td>...</td>\n",
       "      <td>...</td>\n",
       "      <td>...</td>\n",
       "      <td>...</td>\n",
       "      <td>...</td>\n",
       "      <td>...</td>\n",
       "      <td>...</td>\n",
       "      <td>...</td>\n",
       "      <td>...</td>\n",
       "    </tr>\n",
       "    <tr>\n",
       "      <th>4854</th>\n",
       "      <td>15</td>\n",
       "      <td>2019</td>\n",
       "      <td>29995</td>\n",
       "      <td>3</td>\n",
       "      <td>1567</td>\n",
       "      <td>2</td>\n",
       "      <td>145.0</td>\n",
       "      <td>39.8</td>\n",
       "      <td>2.2</td>\n",
       "    </tr>\n",
       "    <tr>\n",
       "      <th>4856</th>\n",
       "      <td>9</td>\n",
       "      <td>2015</td>\n",
       "      <td>7830</td>\n",
       "      <td>0</td>\n",
       "      <td>59508</td>\n",
       "      <td>2</td>\n",
       "      <td>30.0</td>\n",
       "      <td>65.7</td>\n",
       "      <td>1.7</td>\n",
       "    </tr>\n",
       "    <tr>\n",
       "      <th>4857</th>\n",
       "      <td>5</td>\n",
       "      <td>2017</td>\n",
       "      <td>6830</td>\n",
       "      <td>0</td>\n",
       "      <td>13810</td>\n",
       "      <td>0</td>\n",
       "      <td>20.0</td>\n",
       "      <td>60.1</td>\n",
       "      <td>1.0</td>\n",
       "    </tr>\n",
       "    <tr>\n",
       "      <th>4858</th>\n",
       "      <td>12</td>\n",
       "      <td>2018</td>\n",
       "      <td>13994</td>\n",
       "      <td>0</td>\n",
       "      <td>23313</td>\n",
       "      <td>0</td>\n",
       "      <td>145.0</td>\n",
       "      <td>44.8</td>\n",
       "      <td>1.6</td>\n",
       "    </tr>\n",
       "    <tr>\n",
       "      <th>4859</th>\n",
       "      <td>12</td>\n",
       "      <td>2016</td>\n",
       "      <td>15999</td>\n",
       "      <td>2</td>\n",
       "      <td>11472</td>\n",
       "      <td>2</td>\n",
       "      <td>125.0</td>\n",
       "      <td>57.6</td>\n",
       "      <td>1.7</td>\n",
       "    </tr>\n",
       "  </tbody>\n",
       "</table>\n",
       "<p>4592 rows × 9 columns</p>\n",
       "</div>"
      ],
      "text/plain": [
       "      model  year  price  transmission  mileage  fuelType    tax   mpg   \n",
       "0         7  2017   7999             0    17307         0  145.0  58.9  \\\n",
       "1        12  2016  14499             2    25233         2  235.0  43.5   \n",
       "2        12  2016  11399             0    37877         2   30.0  61.7   \n",
       "3         5  2016   6499             0    23789         0   20.0  60.1   \n",
       "4         6  2015  10199             0    33177         2  160.0  51.4   \n",
       "...     ...   ...    ...           ...      ...       ...    ...   ...   \n",
       "4854     15  2019  29995             3     1567         2  145.0  39.8   \n",
       "4856      9  2015   7830             0    59508         2   30.0  65.7   \n",
       "4857      5  2017   6830             0    13810         0   20.0  60.1   \n",
       "4858     12  2018  13994             0    23313         0  145.0  44.8   \n",
       "4859     12  2016  15999             2    11472         2  125.0  57.6   \n",
       "\n",
       "      engineSize  \n",
       "0            1.2  \n",
       "1            2.0  \n",
       "2            1.7  \n",
       "3            1.0  \n",
       "4            2.0  \n",
       "...          ...  \n",
       "4854         2.2  \n",
       "4856         1.7  \n",
       "4857         1.0  \n",
       "4858         1.6  \n",
       "4859         1.7  \n",
       "\n",
       "[4592 rows x 9 columns]"
      ]
     },
     "execution_count": 8,
     "metadata": {},
     "output_type": "execute_result"
    }
   ],
   "source": [
    "# Hierarchical Clustering\n",
    "\n",
    "df"
   ]
  },
  {
   "cell_type": "code",
   "execution_count": 9,
   "metadata": {},
   "outputs": [
    {
     "data": {
      "text/html": [
       "<div>\n",
       "<style scoped>\n",
       "    .dataframe tbody tr th:only-of-type {\n",
       "        vertical-align: middle;\n",
       "    }\n",
       "\n",
       "    .dataframe tbody tr th {\n",
       "        vertical-align: top;\n",
       "    }\n",
       "\n",
       "    .dataframe thead th {\n",
       "        text-align: right;\n",
       "    }\n",
       "</style>\n",
       "<table border=\"1\" class=\"dataframe\">\n",
       "  <thead>\n",
       "    <tr style=\"text-align: right;\">\n",
       "      <th></th>\n",
       "      <th>year</th>\n",
       "      <th>price</th>\n",
       "      <th>mileage</th>\n",
       "      <th>tax</th>\n",
       "      <th>mpg</th>\n",
       "      <th>engineSize</th>\n",
       "    </tr>\n",
       "  </thead>\n",
       "  <tbody>\n",
       "    <tr>\n",
       "      <th>0</th>\n",
       "      <td>2017</td>\n",
       "      <td>7999</td>\n",
       "      <td>17307</td>\n",
       "      <td>145.0</td>\n",
       "      <td>58.9</td>\n",
       "      <td>1.2</td>\n",
       "    </tr>\n",
       "    <tr>\n",
       "      <th>1</th>\n",
       "      <td>2016</td>\n",
       "      <td>14499</td>\n",
       "      <td>25233</td>\n",
       "      <td>235.0</td>\n",
       "      <td>43.5</td>\n",
       "      <td>2.0</td>\n",
       "    </tr>\n",
       "    <tr>\n",
       "      <th>2</th>\n",
       "      <td>2016</td>\n",
       "      <td>11399</td>\n",
       "      <td>37877</td>\n",
       "      <td>30.0</td>\n",
       "      <td>61.7</td>\n",
       "      <td>1.7</td>\n",
       "    </tr>\n",
       "    <tr>\n",
       "      <th>3</th>\n",
       "      <td>2016</td>\n",
       "      <td>6499</td>\n",
       "      <td>23789</td>\n",
       "      <td>20.0</td>\n",
       "      <td>60.1</td>\n",
       "      <td>1.0</td>\n",
       "    </tr>\n",
       "    <tr>\n",
       "      <th>4</th>\n",
       "      <td>2015</td>\n",
       "      <td>10199</td>\n",
       "      <td>33177</td>\n",
       "      <td>160.0</td>\n",
       "      <td>51.4</td>\n",
       "      <td>2.0</td>\n",
       "    </tr>\n",
       "    <tr>\n",
       "      <th>...</th>\n",
       "      <td>...</td>\n",
       "      <td>...</td>\n",
       "      <td>...</td>\n",
       "      <td>...</td>\n",
       "      <td>...</td>\n",
       "      <td>...</td>\n",
       "    </tr>\n",
       "    <tr>\n",
       "      <th>4854</th>\n",
       "      <td>2019</td>\n",
       "      <td>29995</td>\n",
       "      <td>1567</td>\n",
       "      <td>145.0</td>\n",
       "      <td>39.8</td>\n",
       "      <td>2.2</td>\n",
       "    </tr>\n",
       "    <tr>\n",
       "      <th>4856</th>\n",
       "      <td>2015</td>\n",
       "      <td>7830</td>\n",
       "      <td>59508</td>\n",
       "      <td>30.0</td>\n",
       "      <td>65.7</td>\n",
       "      <td>1.7</td>\n",
       "    </tr>\n",
       "    <tr>\n",
       "      <th>4857</th>\n",
       "      <td>2017</td>\n",
       "      <td>6830</td>\n",
       "      <td>13810</td>\n",
       "      <td>20.0</td>\n",
       "      <td>60.1</td>\n",
       "      <td>1.0</td>\n",
       "    </tr>\n",
       "    <tr>\n",
       "      <th>4858</th>\n",
       "      <td>2018</td>\n",
       "      <td>13994</td>\n",
       "      <td>23313</td>\n",
       "      <td>145.0</td>\n",
       "      <td>44.8</td>\n",
       "      <td>1.6</td>\n",
       "    </tr>\n",
       "    <tr>\n",
       "      <th>4859</th>\n",
       "      <td>2016</td>\n",
       "      <td>15999</td>\n",
       "      <td>11472</td>\n",
       "      <td>125.0</td>\n",
       "      <td>57.6</td>\n",
       "      <td>1.7</td>\n",
       "    </tr>\n",
       "  </tbody>\n",
       "</table>\n",
       "<p>4592 rows × 6 columns</p>\n",
       "</div>"
      ],
      "text/plain": [
       "      year  price  mileage    tax   mpg  engineSize\n",
       "0     2017   7999    17307  145.0  58.9         1.2\n",
       "1     2016  14499    25233  235.0  43.5         2.0\n",
       "2     2016  11399    37877   30.0  61.7         1.7\n",
       "3     2016   6499    23789   20.0  60.1         1.0\n",
       "4     2015  10199    33177  160.0  51.4         2.0\n",
       "...    ...    ...      ...    ...   ...         ...\n",
       "4854  2019  29995     1567  145.0  39.8         2.2\n",
       "4856  2015   7830    59508   30.0  65.7         1.7\n",
       "4857  2017   6830    13810   20.0  60.1         1.0\n",
       "4858  2018  13994    23313  145.0  44.8         1.6\n",
       "4859  2016  15999    11472  125.0  57.6         1.7\n",
       "\n",
       "[4592 rows x 6 columns]"
      ]
     },
     "execution_count": 9,
     "metadata": {},
     "output_type": "execute_result"
    }
   ],
   "source": [
    "from scipy.spatial.distance import pdist,squareform\n",
    "\n",
    "# 범주형 변수 제거(PCA를 위해)\n",
    "df_new1 = df.iloc[:,[1,2,4,6,7,8]]\n",
    "df_new1"
   ]
  },
  {
   "cell_type": "code",
   "execution_count": 10,
   "metadata": {},
   "outputs": [],
   "source": [
    "from sklearn.model_selection import train_test_split\n",
    "\n",
    "X,y = df_new1.iloc[:,[0,2,3,4,5]] , df_new1.iloc[:,1]\n",
    "\n",
    "X_train,X_test,y_train,y_test = train_test_split(\n",
    "    X,y,test_size=0.3,\n",
    "    random_state= 0 )"
   ]
  },
  {
   "cell_type": "code",
   "execution_count": 11,
   "metadata": {},
   "outputs": [],
   "source": [
    "from sklearn.preprocessing import StandardScaler\n",
    "\n",
    "# 표준화 진행\n",
    "\n",
    "sc = StandardScaler()\n",
    "X_train_std = sc.fit_transform(X_train)\n",
    "X_test_std = sc.transform(X_test)"
   ]
  },
  {
   "cell_type": "code",
   "execution_count": 12,
   "metadata": {},
   "outputs": [
    {
     "data": {
      "text/plain": [
       "array([[ 0.95732077, -0.74296756,  0.3775381 , -1.73072132,  1.39406205],\n",
       "       [ 0.4399458 , -0.77370243,  0.3775381 ,  0.63380274, -1.23411453],\n",
       "       [ 1.47469574, -1.19867552,  0.46826015,  0.30766149, -1.23411453],\n",
       "       ...,\n",
       "       [-0.59480415, -0.35589309, -1.70906911,  0.40731576, -0.70847921],\n",
       "       [ 1.47469574, -1.21878029,  0.3775381 ,  0.30766149, -1.23411453],\n",
       "       [ 0.4399458 , -0.7689651 ,  0.3775381 , -0.75229757,  0.34279142]])"
      ]
     },
     "execution_count": 12,
     "metadata": {},
     "output_type": "execute_result"
    }
   ],
   "source": [
    "X_train_std"
   ]
  },
  {
   "cell_type": "code",
   "execution_count": 13,
   "metadata": {},
   "outputs": [
    {
     "data": {
      "text/plain": [
       "array([[-0.59480415,  1.03312651,  0.3775381 ,  0.10835295,  1.39406205],\n",
       "       [ 0.95732077, -1.21895361,  0.3775381 , -1.20527153,  1.91969736],\n",
       "       [-1.62955409, -0.46906904, -1.70906911,  0.40731576, -0.70847921],\n",
       "       ...,\n",
       "       [ 0.4399458 , -0.488365  ,  0.3775381 ,  0.63380274, -1.23411453],\n",
       "       [-1.62955409,  1.49518943, -1.89051321,  0.63380274, -1.23411453],\n",
       "       [-3.18167901,  3.14845958,  0.3775381 , -0.39897788,  0.60560908]])"
      ]
     },
     "execution_count": 13,
     "metadata": {},
     "output_type": "execute_result"
    }
   ],
   "source": [
    "X_test_std"
   ]
  },
  {
   "cell_type": "code",
   "execution_count": 14,
   "metadata": {},
   "outputs": [
    {
     "data": {
      "text/plain": [
       "array([1.98062243, 1.51443328, 0.25794185, 0.67127322, 0.57728539])"
      ]
     },
     "execution_count": 14,
     "metadata": {},
     "output_type": "execute_result"
    }
   ],
   "source": [
    "cov_mat = np.cov(X_train_std.T)\n",
    "\n",
    "eigen_vals, eigen_vecs = np.linalg.eig(cov_mat)\n",
    "eigen_vals"
   ]
  },
  {
   "cell_type": "code",
   "execution_count": 15,
   "metadata": {},
   "outputs": [
    {
     "data": {
      "text/plain": [
       "(5, 5)"
      ]
     },
     "execution_count": 15,
     "metadata": {},
     "output_type": "execute_result"
    }
   ],
   "source": [
    "eigen_vecs.shape"
   ]
  },
  {
   "cell_type": "code",
   "execution_count": 16,
   "metadata": {},
   "outputs": [
    {
     "data": {
      "image/png": "[encoded data removed]",
      "text/plain": [
       "<Figure size 640x480 with 1 Axes>"
      ]
     },
     "metadata": {},
     "output_type": "display_data"
    }
   ],
   "source": [
    "tot = sum(eigen_vals)\n",
    "var_exp = [(i/tot) for i in sorted(eigen_vals,reverse=True)]\n",
    "cum_var_exp = np.cumsum(var_exp)\n",
    "\n",
    "import matplotlib.pyplot as plt\n",
    "\n",
    "plt.bar(range(1,6),var_exp,alpha=0.5,align='center',\n",
    "       label='Individual explained variance')\n",
    "plt.step(range(1,6),cum_var_exp,where='mid',\n",
    "        label='Cumulative explained variance')\n",
    "plt.xlabel('Explained Variance Ratio')\n",
    "plt.ylabel('Number of Principal Components')\n",
    "plt.legend(loc='best')\n",
    "plt.show()"
   ]
  },
  {
   "cell_type": "code",
   "execution_count": 17,
   "metadata": {},
   "outputs": [],
   "source": [
    "# 2개의 features를 선택!"
   ]
  },
  {
   "cell_type": "code",
   "execution_count": 18,
   "metadata": {},
   "outputs": [
    {
     "data": {
      "text/plain": [
       "array([1.98062243, 1.51443328, 0.25794185, 0.67127322, 0.57728539])"
      ]
     },
     "execution_count": 18,
     "metadata": {},
     "output_type": "execute_result"
    }
   ],
   "source": [
    "eigen_vals"
   ]
  },
  {
   "cell_type": "code",
   "execution_count": 19,
   "metadata": {},
   "outputs": [
    {
     "data": {
      "text/plain": [
       "array([[-0.57479597,  0.32132446,  0.67878846, -0.32217332, -0.04255313],\n",
       "       [ 0.53970092, -0.42826369,  0.70516909,  0.11212903, -0.12440563],\n",
       "       [-0.4441145 , -0.38192149, -0.07581321,  0.34787613, -0.72810222],\n",
       "       [ 0.41020712,  0.42932982, -0.1029229 , -0.43187697, -0.67104038],\n",
       "       [-0.11324726, -0.61899329, -0.16013124, -0.75900983,  0.04779582]])"
      ]
     },
     "execution_count": 19,
     "metadata": {},
     "output_type": "execute_result"
    }
   ],
   "source": [
    "eigen_vecs"
   ]
  },
  {
   "cell_type": "code",
   "execution_count": 20,
   "metadata": {},
   "outputs": [
    {
     "data": {
      "text/plain": [
       "[(1.9806224346466366,\n",
       "  array([-0.57479597,  0.53970092, -0.4441145 ,  0.41020712, -0.11324726])),\n",
       " (1.514433281932795,\n",
       "  array([ 0.32132446, -0.42826369, -0.38192149,  0.42932982, -0.61899329])),\n",
       " (0.25794184675677145,\n",
       "  array([ 0.67878846,  0.70516909, -0.07581321, -0.1029229 , -0.16013124])),\n",
       " (0.6712732215808291,\n",
       "  array([-0.32217332,  0.11212903,  0.34787613, -0.43187697, -0.75900983])),\n",
       " (0.5772853931097354,\n",
       "  array([-0.04255313, -0.12440563, -0.72810222, -0.67104038,  0.04779582]))]"
      ]
     },
     "execution_count": 20,
     "metadata": {},
     "output_type": "execute_result"
    }
   ],
   "source": [
    "eigen_pairs =[(np.abs(eigen_vals[i]),eigen_vecs[:,i]) for i in range(5)]\n",
    "eigen_pairs"
   ]
  },
  {
   "cell_type": "code",
   "execution_count": 21,
   "metadata": {},
   "outputs": [
    {
     "data": {
      "text/plain": [
       "[(1.9806224346466366,\n",
       "  array([-0.57479597,  0.53970092, -0.4441145 ,  0.41020712, -0.11324726])),\n",
       " (1.514433281932795,\n",
       "  array([ 0.32132446, -0.42826369, -0.38192149,  0.42932982, -0.61899329])),\n",
       " (0.6712732215808291,\n",
       "  array([-0.32217332,  0.11212903,  0.34787613, -0.43187697, -0.75900983])),\n",
       " (0.5772853931097354,\n",
       "  array([-0.04255313, -0.12440563, -0.72810222, -0.67104038,  0.04779582])),\n",
       " (0.25794184675677145,\n",
       "  array([ 0.67878846,  0.70516909, -0.07581321, -0.1029229 , -0.16013124]))]"
      ]
     },
     "execution_count": 21,
     "metadata": {},
     "output_type": "execute_result"
    }
   ],
   "source": [
    "eigen_pairs.sort(key=lambda k: k[0], reverse=True)\n",
    "eigen_pairs\n",
    "# np.abs(eigen_vals[i])을 기준으로 내림차순내림차순"
   ]
  },
  {
   "cell_type": "markdown",
   "metadata": {},
   "source": [
    "### X = Z * W"
   ]
  },
  {
   "cell_type": "code",
   "execution_count": 38,
   "metadata": {},
   "outputs": [],
   "source": [
    "# eigen_pairs[0][1][:,np.newaxis]\n",
    "# np.newaxis는 새로운 축을 추가함\n",
    "# eigen_pairs[0][1].shape -> (5,)\n",
    "# eigen_pairs[0][1][:,np.newaxis].shape -> (5,1)"
   ]
  },
  {
   "cell_type": "code",
   "execution_count": 23,
   "metadata": {},
   "outputs": [
    {
     "data": {
      "text/plain": [
       "array([[-0.57479597],\n",
       "       [ 0.53970092],\n",
       "       [-0.4441145 ],\n",
       "       [ 0.41020712],\n",
       "       [-0.11324726]])"
      ]
     },
     "execution_count": 23,
     "metadata": {},
     "output_type": "execute_result"
    }
   ],
   "source": [
    "eigen_pairs[0][1][:,np.newaxis]"
   ]
  },
  {
   "cell_type": "code",
   "execution_count": 24,
   "metadata": {},
   "outputs": [
    {
     "data": {
      "text/plain": [
       "array([[ 0.32132446],\n",
       "       [-0.42826369],\n",
       "       [-0.38192149],\n",
       "       [ 0.42932982],\n",
       "       [-0.61899329]])"
      ]
     },
     "execution_count": 24,
     "metadata": {},
     "output_type": "execute_result"
    }
   ],
   "source": [
    "eigen_pairs[1][1][:,np.newaxis]"
   ]
  },
  {
   "cell_type": "code",
   "execution_count": 40,
   "metadata": {},
   "outputs": [
    {
     "data": {
      "text/plain": [
       "array([[-0.57479597,  0.32132446],\n",
       "       [ 0.53970092, -0.42826369],\n",
       "       [-0.4441145 , -0.38192149],\n",
       "       [ 0.41020712,  0.42932982],\n",
       "       [-0.11324726, -0.61899329]])"
      ]
     },
     "execution_count": 40,
     "metadata": {},
     "output_type": "execute_result"
    }
   ],
   "source": [
    "W = np.hstack((eigen_pairs[0][1][:,np.newaxis],\n",
    "              eigen_pairs[1][1][:,np.newaxis]))\n",
    "\n",
    "# hstack : 가로로 행렬 결합\n",
    "\n",
    "W"
   ]
  },
  {
   "cell_type": "code",
   "execution_count": 26,
   "metadata": {},
   "outputs": [
    {
     "data": {
      "text/plain": [
       "array([ 0.95732077, -0.74296756,  0.3775381 , -1.73072132,  1.39406205])"
      ]
     },
     "execution_count": 26,
     "metadata": {},
     "output_type": "execute_result"
    }
   ],
   "source": [
    "X_train_std[0]"
   ]
  },
  {
   "cell_type": "code",
   "execution_count": 27,
   "metadata": {},
   "outputs": [],
   "source": [
    "X_train_pca = X_train_std.dot(W)"
   ]
  },
  {
   "cell_type": "code",
   "execution_count": 28,
   "metadata": {},
   "outputs": [
    {
     "data": {
      "text/plain": [
       "array([[-1.98674245, -1.12435863],\n",
       "       [-0.43836665,  1.36454311],\n",
       "       [-1.43657156,  1.70436326],\n",
       "       ...,\n",
       "       [ 1.15615472,  1.22743786],\n",
       "       [-1.40713114,  1.7476221 ],\n",
       "       [-1.18297839, -0.20867411]])"
      ]
     },
     "execution_count": 28,
     "metadata": {},
     "output_type": "execute_result"
    }
   ],
   "source": [
    "X_train_pca"
   ]
  },
  {
   "cell_type": "code",
   "execution_count": 29,
   "metadata": {},
   "outputs": [
    {
     "data": {
      "text/plain": [
       "array([2, 1, 1, ..., 0, 1, 2], dtype=int32)"
      ]
     },
     "execution_count": 29,
     "metadata": {},
     "output_type": "execute_result"
    }
   ],
   "source": [
    "km = KMeans(n_clusters=3,\n",
    "               init='random',\n",
    "                n_init=100,\n",
    "                tol=1e-04,\n",
    "                max_iter=500,\n",
    "                random_state=0)\n",
    "y_km = km.fit_predict(X_train_pca)\n",
    "y_km"
   ]
  },
  {
   "cell_type": "code",
   "execution_count": 30,
   "metadata": {},
   "outputs": [
    {
     "data": {
      "image/png": "[encoded data removed]",
      "text/plain": [
       "<Figure size 640x480 with 1 Axes>"
      ]
     },
     "metadata": {},
     "output_type": "display_data"
    }
   ],
   "source": [
    "import seaborn as sns\n",
    "\n",
    "sns.scatterplot(x=X_train_pca[:,0],y=X_train_pca[:,1],hue=y_km)\n",
    "sns.scatterplot(x=km.cluster_centers_[:,0],\n",
    "               y=km.cluster_centers_[:,1],s=250,edgecolor='red',\n",
    "               c='red',marker='*',label='Centroids')\n",
    "plt.show()"
   ]
  }
 ],
 "metadata": {
  "colab": {
   "provenance": []
  },
  "kernelspec": {
   "display_name": "Python 3 (ipykernel)",
   "language": "python",
   "name": "python3"
  },
  "language_info": {
   "codemirror_mode": {
    "name": "ipython",
    "version": 3
   },
   "file_extension": ".py",
   "mimetype": "text/x-python",
   "name": "python",
   "nbconvert_exporter": "python",
   "pygments_lexer": "ipython3",
   "version": "3.11.3"
  }
 },
 "nbformat": 4,
 "nbformat_minor": 1
}
