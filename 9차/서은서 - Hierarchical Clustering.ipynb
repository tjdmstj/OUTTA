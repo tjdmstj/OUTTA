{
 "cells": [
  {
   "cell_type": "markdown",
   "metadata": {
    "id": "mlzzK23VoeLe"
   },
   "source": [
    "### 완전 연결 계층 군집(hierarchical clustering using complete linkage)\n",
    "1. 모든 샘플의 거리 행렬 계산\n",
    "2. 모든 데이터 포인ㅌ트를 단일 클러스터로 표현\n",
    "3. 가장 비슷하지 않은(멀리 떨어진) 샘플 사이 거리에 기초하여 가장 가까운 두 클러스터를 합침\n",
    "4. 유사도 행렬 업데이트\n",
    "5. 하나의 클러스터가 남을 때까지 2~4번 반복"
   ]
  },
  {
   "cell_type": "code",
   "execution_count": 1,
   "metadata": {
    "colab": {
     "base_uri": "https://localhost:8080/",
     "height": 206
    },
    "executionInfo": {
     "elapsed": 432,
     "status": "ok",
     "timestamp": 1688957648315,
     "user": {
      "displayName": "이창대",
      "userId": "01251564591318933512"
     },
     "user_tz": -540
    },
    "id": "dpd5bJ62owoU",
    "outputId": "2e67a228-b7c3-465a-8b73-b11152a18f1d"
   },
   "outputs": [
    {
     "data": {
      "text/html": [
       "<div>\n",
       "<style scoped>\n",
       "    .dataframe tbody tr th:only-of-type {\n",
       "        vertical-align: middle;\n",
       "    }\n",
       "\n",
       "    .dataframe tbody tr th {\n",
       "        vertical-align: top;\n",
       "    }\n",
       "\n",
       "    .dataframe thead th {\n",
       "        text-align: right;\n",
       "    }\n",
       "</style>\n",
       "<table border=\"1\" class=\"dataframe\">\n",
       "  <thead>\n",
       "    <tr style=\"text-align: right;\">\n",
       "      <th></th>\n",
       "      <th>X</th>\n",
       "      <th>Y</th>\n",
       "      <th>Z</th>\n",
       "    </tr>\n",
       "  </thead>\n",
       "  <tbody>\n",
       "    <tr>\n",
       "      <th>ID_0</th>\n",
       "      <td>0.696469</td>\n",
       "      <td>0.286139</td>\n",
       "      <td>0.226851</td>\n",
       "    </tr>\n",
       "    <tr>\n",
       "      <th>ID_1</th>\n",
       "      <td>0.551315</td>\n",
       "      <td>0.719469</td>\n",
       "      <td>0.423106</td>\n",
       "    </tr>\n",
       "    <tr>\n",
       "      <th>ID_2</th>\n",
       "      <td>0.980764</td>\n",
       "      <td>0.684830</td>\n",
       "      <td>0.480932</td>\n",
       "    </tr>\n",
       "    <tr>\n",
       "      <th>ID_3</th>\n",
       "      <td>0.392118</td>\n",
       "      <td>0.343178</td>\n",
       "      <td>0.729050</td>\n",
       "    </tr>\n",
       "    <tr>\n",
       "      <th>ID_4</th>\n",
       "      <td>0.438572</td>\n",
       "      <td>0.059678</td>\n",
       "      <td>0.398044</td>\n",
       "    </tr>\n",
       "  </tbody>\n",
       "</table>\n",
       "</div>"
      ],
      "text/plain": [
       "             X         Y         Z\n",
       "ID_0  0.696469  0.286139  0.226851\n",
       "ID_1  0.551315  0.719469  0.423106\n",
       "ID_2  0.980764  0.684830  0.480932\n",
       "ID_3  0.392118  0.343178  0.729050\n",
       "ID_4  0.438572  0.059678  0.398044"
      ]
     },
     "execution_count": 1,
     "metadata": {},
     "output_type": "execute_result"
    }
   ],
   "source": [
    "import pandas as pd\n",
    "import numpy as np\n",
    "\n",
    "np.random.seed(123)\n",
    "variables = ['X', 'Y', 'Z']\n",
    "labels = ['ID_0', 'ID_1', 'ID_2', 'ID_3', 'ID_4']\n",
    "\n",
    "X = np.random.random((len(labels), len(variables)))\n",
    "df = pd.DataFrame(X, columns = variables, index = labels)\n",
    "df"
   ]
  },
  {
   "cell_type": "code",
   "execution_count": 3,
   "metadata": {
    "colab": {
     "base_uri": "https://localhost:8080/",
     "height": 206
    },
    "executionInfo": {
     "elapsed": 607,
     "status": "ok",
     "timestamp": 1688957648919,
     "user": {
      "displayName": "이창대",
      "userId": "01251564591318933512"
     },
     "user_tz": -540
    },
    "id": "ag1NsBI5pTWF",
    "outputId": "3d56589f-9e3a-49ef-d08b-0580378f4821"
   },
   "outputs": [
    {
     "data": {
      "text/html": [
       "<div>\n",
       "<style scoped>\n",
       "    .dataframe tbody tr th:only-of-type {\n",
       "        vertical-align: middle;\n",
       "    }\n",
       "\n",
       "    .dataframe tbody tr th {\n",
       "        vertical-align: top;\n",
       "    }\n",
       "\n",
       "    .dataframe thead th {\n",
       "        text-align: right;\n",
       "    }\n",
       "</style>\n",
       "<table border=\"1\" class=\"dataframe\">\n",
       "  <thead>\n",
       "    <tr style=\"text-align: right;\">\n",
       "      <th></th>\n",
       "      <th>ID_0</th>\n",
       "      <th>ID_1</th>\n",
       "      <th>ID_2</th>\n",
       "      <th>ID_3</th>\n",
       "      <th>ID_4</th>\n",
       "    </tr>\n",
       "  </thead>\n",
       "  <tbody>\n",
       "    <tr>\n",
       "      <th>ID_0</th>\n",
       "      <td>0.000000</td>\n",
       "      <td>0.497353</td>\n",
       "      <td>0.551665</td>\n",
       "      <td>0.589989</td>\n",
       "      <td>0.383540</td>\n",
       "    </tr>\n",
       "    <tr>\n",
       "      <th>ID_1</th>\n",
       "      <td>0.497353</td>\n",
       "      <td>0.000000</td>\n",
       "      <td>0.434707</td>\n",
       "      <td>0.510431</td>\n",
       "      <td>0.669823</td>\n",
       "    </tr>\n",
       "    <tr>\n",
       "      <th>ID_2</th>\n",
       "      <td>0.551665</td>\n",
       "      <td>0.434707</td>\n",
       "      <td>0.000000</td>\n",
       "      <td>0.724426</td>\n",
       "      <td>0.831659</td>\n",
       "    </tr>\n",
       "    <tr>\n",
       "      <th>ID_3</th>\n",
       "      <td>0.589989</td>\n",
       "      <td>0.510431</td>\n",
       "      <td>0.724426</td>\n",
       "      <td>0.000000</td>\n",
       "      <td>0.438286</td>\n",
       "    </tr>\n",
       "    <tr>\n",
       "      <th>ID_4</th>\n",
       "      <td>0.383540</td>\n",
       "      <td>0.669823</td>\n",
       "      <td>0.831659</td>\n",
       "      <td>0.438286</td>\n",
       "      <td>0.000000</td>\n",
       "    </tr>\n",
       "  </tbody>\n",
       "</table>\n",
       "</div>"
      ],
      "text/plain": [
       "          ID_0      ID_1      ID_2      ID_3      ID_4\n",
       "ID_0  0.000000  0.497353  0.551665  0.589989  0.383540\n",
       "ID_1  0.497353  0.000000  0.434707  0.510431  0.669823\n",
       "ID_2  0.551665  0.434707  0.000000  0.724426  0.831659\n",
       "ID_3  0.589989  0.510431  0.724426  0.000000  0.438286\n",
       "ID_4  0.383540  0.669823  0.831659  0.438286  0.000000"
      ]
     },
     "execution_count": 3,
     "metadata": {},
     "output_type": "execute_result"
    }
   ],
   "source": [
    "from scipy.spatial.distance import pdist, squareform\n",
    "\n",
    "row_dist = pd.DataFrame(squareform(\n",
    "                        pdist(df, metric='euclidean')),\n",
    "                        columns = labels, index = labels)\n",
    "row_dist\n",
    "# 거리를 구함"
   ]
  },
  {
   "cell_type": "code",
   "execution_count": 4,
   "metadata": {
    "colab": {
     "base_uri": "https://localhost:8080/",
     "height": 175
    },
    "executionInfo": {
     "elapsed": 7,
     "status": "ok",
     "timestamp": 1688957648920,
     "user": {
      "displayName": "이창대",
      "userId": "01251564591318933512"
     },
     "user_tz": -540
    },
    "id": "o9g6qx0LqRkV",
    "outputId": "a71fdb0d-aab3-49c2-de80-ad1923595388"
   },
   "outputs": [
    {
     "data": {
      "text/html": [
       "<div>\n",
       "<style scoped>\n",
       "    .dataframe tbody tr th:only-of-type {\n",
       "        vertical-align: middle;\n",
       "    }\n",
       "\n",
       "    .dataframe tbody tr th {\n",
       "        vertical-align: top;\n",
       "    }\n",
       "\n",
       "    .dataframe thead th {\n",
       "        text-align: right;\n",
       "    }\n",
       "</style>\n",
       "<table border=\"1\" class=\"dataframe\">\n",
       "  <thead>\n",
       "    <tr style=\"text-align: right;\">\n",
       "      <th></th>\n",
       "      <th>row label 1</th>\n",
       "      <th>row label 2</th>\n",
       "      <th>distance</th>\n",
       "      <th>no. of items in clust.</th>\n",
       "    </tr>\n",
       "  </thead>\n",
       "  <tbody>\n",
       "    <tr>\n",
       "      <th>cluster 1</th>\n",
       "      <td>0.0</td>\n",
       "      <td>4.0</td>\n",
       "      <td>0.383540</td>\n",
       "      <td>2.0</td>\n",
       "    </tr>\n",
       "    <tr>\n",
       "      <th>cluster 2</th>\n",
       "      <td>1.0</td>\n",
       "      <td>2.0</td>\n",
       "      <td>0.434707</td>\n",
       "      <td>2.0</td>\n",
       "    </tr>\n",
       "    <tr>\n",
       "      <th>cluster 3</th>\n",
       "      <td>3.0</td>\n",
       "      <td>5.0</td>\n",
       "      <td>0.589989</td>\n",
       "      <td>3.0</td>\n",
       "    </tr>\n",
       "    <tr>\n",
       "      <th>cluster 4</th>\n",
       "      <td>6.0</td>\n",
       "      <td>7.0</td>\n",
       "      <td>0.831659</td>\n",
       "      <td>5.0</td>\n",
       "    </tr>\n",
       "  </tbody>\n",
       "</table>\n",
       "</div>"
      ],
      "text/plain": [
       "           row label 1  row label 2  distance  no. of items in clust.\n",
       "cluster 1          0.0          4.0  0.383540                     2.0\n",
       "cluster 2          1.0          2.0  0.434707                     2.0\n",
       "cluster 3          3.0          5.0  0.589989                     3.0\n",
       "cluster 4          6.0          7.0  0.831659                     5.0"
      ]
     },
     "execution_count": 4,
     "metadata": {},
     "output_type": "execute_result"
    }
   ],
   "source": [
    "# 완전 연결 병합 적용\n",
    "# 축약된 거리 행렬(상삼각 행렬(upper triangular matrix))을 입력 속성으로 사용\n",
    "# 연결 행렬 (linkage matrix) 반환\n",
    "from scipy.cluster.hierarchy import linkage\n",
    "\n",
    "row_clusters = linkage(pdist(df, metric = 'euclidean'),\n",
    "                       method = 'complete')\n",
    "\n",
    "# 가장 먼 거리를 기준으로 군집화 진행\n",
    "\n",
    "pd.DataFrame(row_clusters,\n",
    "             columns = ['row label 1',\n",
    "                        'row label 2',\n",
    "                        'distance',\n",
    "                        'no. of items in clust.'],\n",
    "             index = ['cluster %d' %(i +1) for i in range(row_clusters.shape[0])])"
   ]
  },
  {
   "cell_type": "code",
   "execution_count": 5,
   "metadata": {
    "colab": {
     "base_uri": "https://localhost:8080/",
     "height": 487
    },
    "executionInfo": {
     "elapsed": 6,
     "status": "ok",
     "timestamp": 1688957648920,
     "user": {
      "displayName": "이창대",
      "userId": "01251564591318933512"
     },
     "user_tz": -540
    },
    "id": "wfk1DU8zrGZ3",
    "outputId": "8cd83181-93bc-4596-8441-c528001ef710"
   },
   "outputs": [
    {
     "data": {
      "image/png": "[encoded data removed]",
      "text/plain": [
       "<Figure size 640x480 with 1 Axes>"
      ]
     },
     "metadata": {},
     "output_type": "display_data"
    }
   ],
   "source": [
    "# 연결 행렬을 덴드로그램으로 그리기\n",
    "from scipy.cluster.hierarchy import dendrogram\n",
    "import matplotlib.pyplot as plt\n",
    "# 덴드로그램은 색이 다양함.\n",
    "# 검은색으로 보고싶다면 아래의 코드 주석 해제\n",
    "\n",
    "# from scipy.cluster.hierarchy import set_link_color_palette\n",
    "# set_link_color_palette(['black'])\n",
    "\n",
    "row_dendr = dendrogram(row_clusters,\n",
    "                       labels = labels,\n",
    "                       # color_threshold = np.inf\n",
    "                       )\n",
    "\n",
    "plt.tight_layout()\n",
    "plt.ylabel('Euclidean distance')\n",
    "plt.show()"
   ]
  }
 ],
 "metadata": {
  "colab": {
   "authorship_tag": "ABX9TyO521u/ZVt8OTYLjbTvE3S+",
   "provenance": []
  },
  "kernelspec": {
   "display_name": "Python 3 (ipykernel)",
   "language": "python",
   "name": "python3"
  },
  "language_info": {
   "codemirror_mode": {
    "name": "ipython",
    "version": 3
   },
   "file_extension": ".py",
   "mimetype": "text/x-python",
   "name": "python",
   "nbconvert_exporter": "python",
   "pygments_lexer": "ipython3",
   "version": "3.11.3"
  }
 },
 "nbformat": 4,
 "nbformat_minor": 1
}
